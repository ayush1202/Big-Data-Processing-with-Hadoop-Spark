{
 "cells": [
  {
   "cell_type": "markdown",
   "metadata": {},
   "source": [
    "# Spark Data Frames\n",
    "\n",
    "Spark SQL is a Spark module for structured data processing. Unlike the basic Spark RDD API, the interfaces provided by Spark SQL provide Spark with more information about the structure of both the data and the computation being performed. Internally, Spark SQL uses this extra information to perform extra optimizations.\n",
    "\n",
    "There are several ways to interact with Spark SQL including SQL, the DataFrames API and the Datasets API.\n",
    "When computing a result the same execution engine is used, independent of which API/language you are using to express the computation. This unification means that developers can easily switch back and forth between the various APIs based on which provides the most natural way to express a given transformation."
   ]
  },
  {
   "cell_type": "markdown",
   "metadata": {},
   "source": [
    "# Setup"
   ]
  },
  {
   "cell_type": "code",
   "execution_count": 1,
   "metadata": {
    "ExecuteTime": {
     "end_time": "2017-10-20T17:47:48.092145",
     "start_time": "2017-10-20T17:47:47.030185"
    },
    "collapsed": true
   },
   "outputs": [],
   "source": [
    "import os, sys\n",
    "import numpy as np\n",
    "import pandas as pd\n",
    "%matplotlib inline\n",
    "import matplotlib.pyplot as plt"
   ]
  },
  {
   "cell_type": "markdown",
   "metadata": {},
   "source": [
    "## Setup Spark"
   ]
  },
  {
   "cell_type": "code",
   "execution_count": 9,
   "metadata": {
    "ExecuteTime": {
     "end_time": "2017-10-20T17:50:37.508517",
     "start_time": "2017-10-20T17:50:18.883845"
    },
    "collapsed": false
   },
   "outputs": [
    {
     "name": "stdout",
     "output_type": "stream",
     "text": [
      "Launched Spark version 1.6.1 with ID application_1508160140652_0028\n",
      "http://arc.insight.gsu.edu:8088/cluster/app/application_1508160140652_0028\n"
     ]
    }
   ],
   "source": [
    "# %load ../01_Distributed_Computing_HDFS_Distributed_Data_Sets/pyspark_init_arc.py\n",
    "#\n",
    "# This configuration works for Spark on arc.insight.gsu.edu\n",
    "#\n",
    "import os, sys\n",
    "# set OS environment variable\n",
    "os.environ[\"SPARK_HOME\"] = '/usr/hdp/2.4.2.0-258/spark'\n",
    "# add Spark library to Python\n",
    "sys.path.insert(0, os.path.join(os.environ[\"SPARK_HOME\"], 'python'))\n",
    "\n",
    "# import package\n",
    "import pyspark\n",
    "from pyspark.context import SparkContext, SparkConf\n",
    "\n",
    "import atexit\n",
    "def stop_my_spark():\n",
    "    sc.stop()\n",
    "    del(sc)\n",
    "\n",
    "# Register exit    \n",
    "atexit.register(stop_my_spark)\n",
    "\n",
    "# Configure and start Spark ... but only once.\n",
    "if not 'sc' in globals():\n",
    "    conf = SparkConf()\n",
    "    conf.setAppName('MyFirstSpark') ## you may want to change this\n",
    "    conf.setMaster('yarn-client')\n",
    "    conf.set('spark.ui.port', '%d'%(52000+np.int(np.random.rand(1)*10000)))\n",
    "    sc = SparkContext(conf=conf)\n",
    "    print \"Launched Spark version %s with ID %s\" % (sc.version, sc.applicationId)\n",
    "    print \"http://arc.insight.gsu.edu:8088/cluster/app/%s\"% (sc.applicationId)\n"
   ]
  },
  {
   "cell_type": "markdown",
   "metadata": {
    "ExecuteTime": {
     "end_time": "2017-10-20T17:49:39.261889",
     "start_time": "2017-10-20T17:49:39.256856"
    }
   },
   "source": [
    "## Add SQL Context and a couple of classes"
   ]
  },
  {
   "cell_type": "code",
   "execution_count": 11,
   "metadata": {
    "ExecuteTime": {
     "end_time": "2017-10-20T17:53:36.585827",
     "start_time": "2017-10-20T17:53:36.580905"
    },
    "collapsed": true
   },
   "outputs": [],
   "source": [
    "from pyspark.sql import SQLContext, Row, DataFrame\n",
    "sqlCtx = SQLContext(sc)"
   ]
  },
  {
   "cell_type": "code",
   "execution_count": 12,
   "metadata": {
    "ExecuteTime": {
     "end_time": "2017-10-20T17:55:43.336507",
     "start_time": "2017-10-20T17:55:36.346730"
    },
    "collapsed": false
   },
   "outputs": [
    {
     "name": "stdout",
     "output_type": "stream",
     "text": [
      "root\n",
      " |-- average_stars: double (nullable = true)\n",
      " |-- compliments: struct (nullable = true)\n",
      " |    |-- cool: long (nullable = true)\n",
      " |    |-- cute: long (nullable = true)\n",
      " |    |-- funny: long (nullable = true)\n",
      " |    |-- hot: long (nullable = true)\n",
      " |    |-- list: long (nullable = true)\n",
      " |    |-- more: long (nullable = true)\n",
      " |    |-- note: long (nullable = true)\n",
      " |    |-- photos: long (nullable = true)\n",
      " |    |-- plain: long (nullable = true)\n",
      " |    |-- profile: long (nullable = true)\n",
      " |    |-- writer: long (nullable = true)\n",
      " |-- elite: array (nullable = true)\n",
      " |    |-- element: long (containsNull = true)\n",
      " |-- fans: long (nullable = true)\n",
      " |-- friends: array (nullable = true)\n",
      " |    |-- element: string (containsNull = true)\n",
      " |-- name: string (nullable = true)\n",
      " |-- review_count: long (nullable = true)\n",
      " |-- type: string (nullable = true)\n",
      " |-- user_id: string (nullable = true)\n",
      " |-- votes: struct (nullable = true)\n",
      " |    |-- cool: long (nullable = true)\n",
      " |    |-- funny: long (nullable = true)\n",
      " |    |-- useful: long (nullable = true)\n",
      " |-- yelping_since: string (nullable = true)\n",
      "\n"
     ]
    }
   ],
   "source": [
    "user_df = sqlCtx.read.json('/data/yelp/user')\n",
    "user_df.printSchema()"
   ]
  },
  {
   "cell_type": "markdown",
   "metadata": {},
   "source": [
    "How many records?"
   ]
  },
  {
   "cell_type": "code",
   "execution_count": 13,
   "metadata": {
    "ExecuteTime": {
     "end_time": "2017-10-20T17:56:19.448928",
     "start_time": "2017-10-20T17:56:15.587524"
    },
    "collapsed": false
   },
   "outputs": [
    {
     "data": {
      "text/plain": [
       "68655"
      ]
     },
     "execution_count": 13,
     "metadata": {},
     "output_type": "execute_result"
    }
   ],
   "source": [
    "user_df.count()"
   ]
  },
  {
   "cell_type": "code",
   "execution_count": 15,
   "metadata": {
    "ExecuteTime": {
     "end_time": "2017-10-20T17:57:21.070264",
     "start_time": "2017-10-20T17:57:20.485665"
    },
    "collapsed": false
   },
   "outputs": [
    {
     "name": "stdout",
     "output_type": "stream",
     "text": [
      "+---------+-------------+--------------------+\n",
      "|     name|average_stars|         compliments|\n",
      "+---------+-------------+--------------------+\n",
      "|   Russel|         4.14|[76,15,11,48,null...|\n",
      "|   Jeremy|         3.67|[1675,204,594,111...|\n",
      "|  Michael|         3.68|[134,22,96,99,4,1...|\n",
      "|      Ken|         4.64|[null,2,null,null...|\n",
      "|Katherine|          3.8|[1,2,null,1,null,...|\n",
      "|     Joan|         4.35|[3712,273,1527,27...|\n",
      "|   George|         4.45|[13,4,2,8,1,1,5,n...|\n",
      "|     Mary|         3.88|[1,null,null,1,nu...|\n",
      "|    Nader|         3.59|[5,1,8,5,null,2,3...|\n",
      "|   Kiffen|          5.0|[null,null,null,1...|\n",
      "|   Joseph|          4.3|[2,null,null,1,nu...|\n",
      "|    Helen|         4.01|[213,82,70,265,3,...|\n",
      "|   Yishan|         3.83|[1,2,1,null,null,...|\n",
      "|    David|         3.69|[1,null,2,null,nu...|\n",
      "|   Angela|         4.92|[null,null,null,n...|\n",
      "| Michelle|          3.6|[null,null,null,n...|\n",
      "|  Jeffrey|         1.33|[null,null,null,n...|\n",
      "|    Lynda|         2.42|[null,null,null,n...|\n",
      "|  Heather|         4.38|[1,null,null,null...|\n",
      "|     Jeff|          1.0|[null,null,null,n...|\n",
      "+---------+-------------+--------------------+\n",
      "only showing top 20 rows\n",
      "\n"
     ]
    }
   ],
   "source": [
    "sqlCtx.read.json()\n",
    "user_df.select('name', 'average_stars', 'compliments')"
   ]
  },
  {
   "cell_type": "code",
   "execution_count": 38,
   "metadata": {
    "ExecuteTime": {
     "end_time": "2017-10-20T18:21:25.794089",
     "start_time": "2017-10-20T18:21:25.252019"
    },
    "collapsed": false,
    "scrolled": false
   },
   "outputs": [
    {
     "name": "stdout",
     "output_type": "stream",
     "text": [
      "+---------+-------------+--------------------+\n",
      "|     name|average_stars|         compliments|\n",
      "+---------+-------------+--------------------+\n",
      "|   Russel|         4.14|[76,15,11,48,null...|\n",
      "|      Ken|         4.64|[null,2,null,null...|\n",
      "|     Joan|         4.35|[3712,273,1527,27...|\n",
      "|   George|         4.45|[13,4,2,8,1,1,5,n...|\n",
      "|   Kiffen|          5.0|[null,null,null,1...|\n",
      "|   Joseph|          4.3|[2,null,null,1,nu...|\n",
      "|    Helen|         4.01|[213,82,70,265,3,...|\n",
      "|   Angela|         4.92|[null,null,null,n...|\n",
      "|  Heather|         4.38|[1,null,null,null...|\n",
      "|  Anthony|         4.19|[null,null,null,n...|\n",
      "|Stephanie|          5.0|[null,null,null,n...|\n",
      "|     Maya|         4.56|[null,null,null,n...|\n",
      "|   Stacey|         4.43|[null,null,null,n...|\n",
      "|     Cole|          5.0|[null,null,null,n...|\n",
      "|   Angela|          5.0|[null,null,null,n...|\n",
      "|LaGabriel|         4.38|[null,null,null,n...|\n",
      "| Sunshine|          4.5|[null,null,null,n...|\n",
      "|    Sarah|         4.07|[null,null,null,n...|\n",
      "|        K|         4.38|[null,null,null,n...|\n",
      "|    Cindy|          5.0|[null,null,null,n...|\n",
      "+---------+-------------+--------------------+\n",
      "only showing top 20 rows\n",
      "\n"
     ]
    }
   ],
   "source": [
    "user_df.registerTempTable('users')\n",
    "sqlCtx.sql(\"SELECT name, average_stars, compliments FROM users WHERE average_stars > 4\").show()"
   ]
  },
  {
   "cell_type": "code",
   "execution_count": 40,
   "metadata": {
    "ExecuteTime": {
     "end_time": "2017-10-20T20:16:56.318407",
     "start_time": "2017-10-20T20:16:41.708709"
    },
    "collapsed": false
   },
   "outputs": [
    {
     "name": "stdout",
     "output_type": "stream",
     "text": [
      "root\n",
      " |-- business_id: string (nullable = true)\n",
      " |-- date: string (nullable = true)\n",
      " |-- review_id: string (nullable = true)\n",
      " |-- stars: long (nullable = true)\n",
      " |-- text: string (nullable = true)\n",
      " |-- type: string (nullable = true)\n",
      " |-- user_id: string (nullable = true)\n",
      " |-- votes: struct (nullable = true)\n",
      " |    |-- cool: long (nullable = true)\n",
      " |    |-- funny: long (nullable = true)\n",
      " |    |-- useful: long (nullable = true)\n",
      "\n"
     ]
    }
   ],
   "source": [
    "review_df = sqlCtx.read.json('/data/yelp/review')\n",
    "review_df.printSchema()"
   ]
  },
  {
   "cell_type": "code",
   "execution_count": 41,
   "metadata": {
    "ExecuteTime": {
     "end_time": "2017-10-20T20:17:10.076563",
     "start_time": "2017-10-20T20:17:10.072621"
    },
    "collapsed": true
   },
   "outputs": [],
   "source": [
    "review_df.registerTempTable('reviews')"
   ]
  },
  {
   "cell_type": "code",
   "execution_count": 58,
   "metadata": {
    "ExecuteTime": {
     "end_time": "2017-10-20T20:30:05.135425",
     "start_time": "2017-10-20T20:30:04.892005"
    },
    "collapsed": false
   },
   "outputs": [
    {
     "name": "stdout",
     "output_type": "stream",
     "text": [
      "root\n",
      " |-- business_id: string (nullable = true)\n",
      " |-- Mstars: double (nullable = true)\n",
      " |-- Vstars: double (nullable = false)\n",
      " |-- n: long (nullable = false)\n",
      "\n"
     ]
    }
   ],
   "source": [
    "jnt_df = sqlCtx.sql(\"\"\"\n",
    "SELECT business_id, AVG(stars) AS Mstars, VARIANCE(stars) AS Vstars, COUNT(*) AS n FROM users\n",
    "JOIN reviews \n",
    "ON users.user_id=reviews.user_id\n",
    "GROUP BY business_id\n",
    "HAVING COUNT(*)>20\n",
    "\"\"\")\n",
    "jnt_df.printSchema()"
   ]
  },
  {
   "cell_type": "code",
   "execution_count": 59,
   "metadata": {
    "ExecuteTime": {
     "end_time": "2017-10-20T20:30:59.331201",
     "start_time": "2017-10-20T20:30:25.644464"
    },
    "collapsed": false
   },
   "outputs": [
    {
     "name": "stdout",
     "output_type": "stream",
     "text": [
      "+--------------------+------------------+------------------+---+\n",
      "|         business_id|            Mstars|            Vstars|  n|\n",
      "+--------------------+------------------+------------------+---+\n",
      "|GfUJJXI7bzTRaOgEZ...| 3.761904761904762|1.3904761904761904| 21|\n",
      "|MWoM_zf75KD0VcOm8...|3.9047619047619047|1.7904761904761906| 21|\n",
      "|EXtCgZoxHNjXrqPCF...| 4.285714285714286| 0.914285714285714| 21|\n",
      "|ishjLG3Sc94ZOelXZ...| 3.238095238095238| 1.690476190476191| 21|\n",
      "|C7hN8QQUxC8uQk2Yw...|3.2857142857142856| 2.414285714285714| 21|\n",
      "|2G-I9lROOVwkIkBSE...|3.7142857142857144|1.1142857142857143| 21|\n",
      "|5tey93wPQOb7z6jOL...|3.2857142857142856|2.0142857142857142| 21|\n",
      "|0WI0ydH2HtFxFswYX...| 3.619047619047619|2.5476190476190474| 21|\n",
      "|KZfhb_wZj1qqKMJIN...| 3.761904761904762|0.7904761904761906| 21|\n",
      "|93fEJZYc3B-jOMaXc...|               4.0|               1.3| 21|\n",
      "|rE0-KhjcOQOWIaiyb...|3.4761904761904763|1.2619047619047619| 21|\n",
      "|LT00Q44xHSFTs1wJP...| 4.285714285714286|0.7142857142857143| 21|\n",
      "|5iYdwupq9xiko0PCU...| 4.380952380952381| 1.547619047619048| 21|\n",
      "|uZPVyXLyC26VaJRAZ...|3.7142857142857144|2.0142857142857142| 21|\n",
      "|gmWSXOysesNdp58Wn...|3.3333333333333335|2.4333333333333336| 21|\n",
      "|NERLJXacJ3b6peiZ8...|3.7142857142857144| 1.214285714285714| 21|\n",
      "|OBUbR8vRZ7Rmotiwv...| 3.142857142857143|1.6285714285714286| 21|\n",
      "|0L7nj_kFVMldRrZA7...|               3.0|               2.7| 21|\n",
      "|2Gvg45qaL6icaFKDj...|4.0476190476190474| 2.147619047619047| 21|\n",
      "|TehSM5JrMRikSnjnn...| 4.285714285714286|0.6142857142857145| 21|\n",
      "+--------------------+------------------+------------------+---+\n",
      "only showing top 20 rows\n",
      "\n"
     ]
    }
   ],
   "source": [
    "jnt_df.sort('n', ascending=).show()"
   ]
  }
 ],
 "metadata": {
  "hide_input": false,
  "kernelspec": {
   "display_name": "Python 2",
   "language": "python",
   "name": "python2"
  },
  "language_info": {
   "codemirror_mode": {
    "name": "ipython",
    "version": 2
   },
   "file_extension": ".py",
   "mimetype": "text/x-python",
   "name": "python",
   "nbconvert_exporter": "python",
   "pygments_lexer": "ipython2",
   "version": "2.7.5"
  },
  "toc": {
   "nav_menu": {
    "height": "85px",
    "width": "252px"
   },
   "navigate_menu": true,
   "number_sections": true,
   "sideBar": true,
   "threshold": 4,
   "toc_cell": false,
   "toc_section_display": "block",
   "toc_window_display": false
  }
 },
 "nbformat": 4,
 "nbformat_minor": 0
}
