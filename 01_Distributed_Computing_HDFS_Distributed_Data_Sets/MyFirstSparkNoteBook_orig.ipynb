{
 "cells": [
  {
   "cell_type": "markdown",
   "metadata": {},
   "source": [
    "# My First Spark Notebook\n",
    "There a number of ways to run Spark programs; even in Jupyter notebooks. How to launch your code heavily depends on your Spark environment. The following show a few examples:"
   ]
  },
  {
   "cell_type": "markdown",
   "metadata": {},
   "source": [
    "## Launch Spark from Notebook"
   ]
  },
  {
   "cell_type": "code",
   "execution_count": 1,
   "metadata": {
    "ExecuteTime": {
     "end_time": "2017-10-19T14:00:12.577529",
     "start_time": "2017-10-19T14:00:12.573223"
    },
    "collapsed": true
   },
   "outputs": [],
   "source": [
    "import os, sys"
   ]
  },
  {
   "cell_type": "code",
   "execution_count": 2,
   "metadata": {
    "ExecuteTime": {
     "end_time": "2017-10-19T14:00:55.267817",
     "start_time": "2017-10-19T14:00:55.247521"
    },
    "collapsed": false
   },
   "outputs": [
    {
     "name": "stdout",
     "output_type": "stream",
     "text": [
      "total 8\n",
      "drwxr-xr-x    3 Peter  admin   102 Jun 30 19:09 R\n",
      "-rw-r--r--    1 Peter  admin   128 Jun 30 19:09 RELEASE\n",
      "drwxr-xr-x   12 Peter  admin   408 Sep 29 14:06 bin\n",
      "drwxr-xr-x    9 Peter  admin   306 Jun 30 19:09 conf\n",
      "drwxr-xr-x    5 Peter  admin   170 Jun 30 19:09 data\n",
      "drwxr-xr-x    4 Peter  admin   136 Jun 30 19:09 examples\n",
      "drwxr-xr-x  211 Peter  admin  7174 Jun 30 19:09 jars\n",
      "drwxr-xr-x   38 Peter  admin  1292 Jun 30 19:09 licenses\n",
      "drwxr-xr-x   16 Peter  admin   544 Jun 30 19:09 python\n",
      "drwxr-xr-x   24 Peter  admin   816 Jun 30 19:09 sbin\n",
      "drwxr-xr-x    3 Peter  admin   102 Jun 30 19:09 yarn\n"
     ]
    }
   ],
   "source": [
    "%%sh\n",
    "ls -l /usr/local/Cellar/apache-spark/2.2.0/libexec/"
   ]
  },
  {
   "cell_type": "code",
   "execution_count": 5,
   "metadata": {
    "ExecuteTime": {
     "end_time": "2017-10-19T14:05:11.496666",
     "start_time": "2017-10-19T14:05:11.493297"
    },
    "collapsed": false
   },
   "outputs": [],
   "source": [
    "# set OS environment variable\n",
    "os.environ[\"SPARK_HOME\"] = '/usr/local/Cellar/apache-spark/2.2.0/libexec'\n",
    "# add Spark library to Python\n",
    "sys.path.insert(0, os.path.join(os.environ[\"SPARK_HOME\"], 'python'))"
   ]
  },
  {
   "cell_type": "code",
   "execution_count": 6,
   "metadata": {
    "ExecuteTime": {
     "end_time": "2017-10-19T14:05:51.775944",
     "start_time": "2017-10-19T14:05:51.472988"
    },
    "collapsed": true
   },
   "outputs": [],
   "source": [
    "import pyspark\n",
    "from pyspark.context import SparkContext, SparkConf"
   ]
  },
  {
   "cell_type": "markdown",
   "metadata": {},
   "source": [
    "The following code takes care of cleaning up if our program crashes."
   ]
  },
  {
   "cell_type": "code",
   "execution_count": 20,
   "metadata": {
    "ExecuteTime": {
     "end_time": "2017-10-19T14:24:28.652631",
     "start_time": "2017-10-19T14:24:28.647749"
    },
    "collapsed": false
   },
   "outputs": [
    {
     "data": {
      "text/plain": [
       "<function __main__._at_exit>"
      ]
     },
     "execution_count": 20,
     "metadata": {},
     "output_type": "execute_result"
    }
   ],
   "source": [
    "import atexit\n",
    "def _at_exit():\n",
    "    sc.stop()\n",
    "    del(sc)\n",
    "    \n",
    "atexit.register(_at_exit)"
   ]
  },
  {
   "cell_type": "code",
   "execution_count": 22,
   "metadata": {
    "ExecuteTime": {
     "end_time": "2017-10-19T14:25:00.774123",
     "start_time": "2017-10-19T14:25:00.767268"
    },
    "collapsed": false
   },
   "outputs": [],
   "source": [
    "##sc.stop(); del(sc)\n",
    "\n",
    "if not 'sc' in globals():\n",
    "    conf = SparkConf()\n",
    "    conf.setAppName('MyFirstSpark') ## you may want to change this\n",
    "    conf.setMaster('local[2]')\n",
    "    sc = SparkContext()\n",
    "    print \"Launched Spark version %s with ID %s\" % (sc.version, sc.applicationId)"
   ]
  },
  {
   "cell_type": "markdown",
   "metadata": {
    "ExecuteTime": {
     "end_time": "2017-10-19T14:23:25.794805",
     "start_time": "2017-10-19T14:23:25.792168"
    }
   },
   "source": [
    "Yeah...Spark us running"
   ]
  },
  {
   "cell_type": "code",
   "execution_count": 10,
   "metadata": {
    "ExecuteTime": {
     "end_time": "2017-10-19T14:18:45.301855",
     "start_time": "2017-10-19T14:18:44.774509"
    },
    "collapsed": true
   },
   "outputs": [],
   "source": [
    "sc.stop()"
   ]
  }
 ],
 "metadata": {
  "hide_input": false,
  "kernelspec": {
   "display_name": "Python 2",
   "language": "python",
   "name": "python2"
  },
  "language_info": {
   "codemirror_mode": {
    "name": "ipython",
    "version": 2
   },
   "file_extension": ".py",
   "mimetype": "text/x-python",
   "name": "python",
   "nbconvert_exporter": "python",
   "pygments_lexer": "ipython2",
   "version": "2.7.14"
  },
  "latex_envs": {
   "bibliofile": "biblio.bib",
   "cite_by": "apalike",
   "current_citInitial": 1,
   "eqLabelWithNumbers": true,
   "eqNumInitial": 0
  },
  "toc": {
   "nav_menu": {
    "height": "48px",
    "width": "252px"
   },
   "navigate_menu": true,
   "number_sections": true,
   "sideBar": true,
   "threshold": 4,
   "toc_cell": false,
   "toc_section_display": "block",
   "toc_window_display": false
  }
 },
 "nbformat": 4,
 "nbformat_minor": 2
}
