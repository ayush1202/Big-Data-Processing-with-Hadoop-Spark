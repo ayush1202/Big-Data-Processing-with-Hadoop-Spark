{
 "cells": [
  {
   "cell_type": "markdown",
   "metadata": {},
   "source": [
    "# Word Count in Spark\n",
    "We can find a cleaned-up text file with all of Shakespeare's work in"
   ]
  },
  {
   "cell_type": "code",
   "execution_count": 1,
   "metadata": {
    "ExecuteTime": {
     "end_time": "2017-10-20T10:26:46.530268",
     "start_time": "2017-10-20T10:26:41.237430"
    },
    "collapsed": false
   },
   "outputs": [
    {
     "name": "stdout",
     "output_type": "stream",
     "text": [
      "Found 1 items\n",
      "-rw-r--r--   3 pmolnar hdfs    5308225 2017-10-19 16:50 /data/shakespeare/shakespeare.txt\n"
     ]
    }
   ],
   "source": [
    "%%sh\n",
    "hdfs dfs -ls /data/shakespeare"
   ]
  },
  {
   "cell_type": "code",
   "execution_count": 2,
   "metadata": {
    "ExecuteTime": {
     "end_time": "2017-10-20T10:26:48.673331",
     "start_time": "2017-10-20T10:26:48.669947"
    },
    "collapsed": true
   },
   "outputs": [],
   "source": [
    "DATADIR='/data/shakespeare'"
   ]
  },
  {
   "cell_type": "code",
   "execution_count": null,
   "metadata": {
    "ExecuteTime": {
     "end_time": "2017-10-19T17:34:43.877838",
     "start_time": "2017-10-19T17:34:43.874119"
    },
    "collapsed": false
   },
   "outputs": [],
   "source": [
    "##sc.stop; del(sc)"
   ]
  },
  {
   "cell_type": "code",
   "execution_count": 3,
   "metadata": {
    "ExecuteTime": {
     "end_time": "2017-10-20T10:27:13.088015",
     "start_time": "2017-10-20T10:26:52.388829"
    },
    "collapsed": false
   },
   "outputs": [
    {
     "name": "stdout",
     "output_type": "stream",
     "text": [
      "Launched Spark version 1.6.1 with ID application_1508160140652_0002\n"
     ]
    }
   ],
   "source": [
    "# %load pyspark_init_arc.py\n",
    "#\n",
    "# This configuration works for Spark on macOS using homebrew\n",
    "#\n",
    "import os, sys\n",
    "# set OS environment variable\n",
    "os.environ[\"SPARK_HOME\"] = '/usr/hdp/2.4.2.0-258/spark'\n",
    "# add Spark library to Python\n",
    "sys.path.insert(0, os.path.join(os.environ[\"SPARK_HOME\"], 'python'))\n",
    "\n",
    "# import package\n",
    "import pyspark\n",
    "from pyspark.context import SparkContext, SparkConf\n",
    "\n",
    "import atexit\n",
    "def stop_my_spark():\n",
    "    sc.stop()\n",
    "    del(sc)\n",
    "\n",
    "# Register exit    \n",
    "atexit.register(stop_my_spark)\n",
    "\n",
    "# Configure and start Spark ... but only once.\n",
    "if not 'sc' in globals():\n",
    "    conf = SparkConf()\n",
    "    conf.setAppName('MyFirstSpark') ## you may want to change this\n",
    "    conf.setMaster('yarn-client')   ##conf.setMaster('local[2]')\n",
    "    sc = SparkContext(conf=conf)\n",
    "    print \"Launched Spark version %s with ID %s\" % (sc.version, sc.applicationId)"
   ]
  },
  {
   "cell_type": "code",
   "execution_count": 4,
   "metadata": {
    "ExecuteTime": {
     "end_time": "2017-10-20T10:27:16.981241",
     "start_time": "2017-10-20T10:27:16.975234"
    },
    "collapsed": false
   },
   "outputs": [
    {
     "name": "stdout",
     "output_type": "stream",
     "text": [
      "http://arc.insight.gsu.edu:8088/cluster/app/application_1508160140652_0002\n"
     ]
    }
   ],
   "source": [
    "print \"http://arc.insight.gsu.edu:8088/cluster/app/%s\"% (sc.applicationId)"
   ]
  },
  {
   "cell_type": "markdown",
   "metadata": {},
   "source": [
    "# Load Data"
   ]
  },
  {
   "cell_type": "code",
   "execution_count": 5,
   "metadata": {
    "ExecuteTime": {
     "end_time": "2017-10-20T10:27:21.017575",
     "start_time": "2017-10-20T10:27:20.151264"
    },
    "collapsed": false
   },
   "outputs": [],
   "source": [
    "rdd = sc.textFile(os.path.join(DATADIR, 'shakespeare.txt')).sample(False, 0.001)"
   ]
  },
  {
   "cell_type": "code",
   "execution_count": 6,
   "metadata": {
    "ExecuteTime": {
     "end_time": "2017-10-20T10:27:24.978832",
     "start_time": "2017-10-20T10:27:22.636961"
    },
    "collapsed": false
   },
   "outputs": [
    {
     "data": {
      "text/plain": [
       "[u\"  Which in my bosom's shop is hanging still,\",\n",
       " u'',\n",
       " u'  Thine eyes, that taught the dumb on high to sing,',\n",
       " u'    This is a dreadful sentence.',\n",
       " u'  BERTRAM. Do you think I am so far deceived in him?',\n",
       " u'    Ours be your patience then, and yours our parts;',\n",
       " u'    No more do yours. Your virtues, gentle master,',\n",
       " u'    how to know a man in love; in which cage of rushes I am sure you',\n",
       " u'',\n",
       " u\"  By computation and mine host's report\"]"
      ]
     },
     "execution_count": 6,
     "metadata": {},
     "output_type": "execute_result"
    }
   ],
   "source": [
    "rdd.take(10)"
   ]
  },
  {
   "cell_type": "markdown",
   "metadata": {},
   "source": [
    "# Cleaning-up\n",
    "\n",
    "The `mapper.sh` code run some character replacements\n",
    "<pre>\n",
    "tr -d '.,:?\"' \\\n",
    "| tr '[]{}-' '     ' \\\n",
    "| tr 'A-Z' 'a-z' \\\n",
    "| tr ' ' '\\n' \\\n",
    "| grep -v -e '^[[:space:]]*$'\n",
    "\n",
    "</pre>\n",
    "\n",
    "We're going to use the regular expression package, `re` to replace characters.\n",
    "<pre>\n",
    "regex = re.compile('[%s]' % re.escape(string.punctuation))\n",
    "regex.sub(' ', s)\n",
    "</pre>\n"
   ]
  },
  {
   "cell_type": "code",
   "execution_count": 7,
   "metadata": {
    "ExecuteTime": {
     "end_time": "2017-10-20T10:27:28.105964",
     "start_time": "2017-10-20T10:27:28.101955"
    },
    "collapsed": true
   },
   "outputs": [],
   "source": [
    "import re, string\n",
    "regex = re.compile('[%s]' % re.escape(string.punctuation))"
   ]
  },
  {
   "cell_type": "code",
   "execution_count": 8,
   "metadata": {
    "ExecuteTime": {
     "end_time": "2017-10-20T10:27:29.735790",
     "start_time": "2017-10-20T10:27:29.730862"
    },
    "collapsed": false
   },
   "outputs": [
    {
     "name": "stdout",
     "output_type": "stream",
     "text": [
      "Special characters: !\"#$%&'()*+,-./:;<=>?@[\\]^_`{|}~\n"
     ]
    }
   ],
   "source": [
    "print \"Special characters: %s\"%(string.punctuation)"
   ]
  },
  {
   "cell_type": "code",
   "execution_count": 9,
   "metadata": {
    "ExecuteTime": {
     "end_time": "2017-10-20T10:27:32.294571",
     "start_time": "2017-10-20T10:27:32.141586"
    },
    "collapsed": false
   },
   "outputs": [
    {
     "data": {
      "text/plain": [
       "[u'  Which in my bosom s shop is hanging still ',\n",
       " u'',\n",
       " u'  Thine eyes  that taught the dumb on high to sing ',\n",
       " u'    This is a dreadful sentence ']"
      ]
     },
     "execution_count": 9,
     "metadata": {},
     "output_type": "execute_result"
    }
   ],
   "source": [
    "# hint: regex.sub(' ', s)\n",
    "rdd2 = rdd.map(lambda s: regex.sub(' ', s))\n",
    "rdd2.take(4)"
   ]
  },
  {
   "cell_type": "markdown",
   "metadata": {},
   "source": [
    "Let's convert to lower case"
   ]
  },
  {
   "cell_type": "code",
   "execution_count": 10,
   "metadata": {
    "ExecuteTime": {
     "end_time": "2017-10-20T10:27:36.637409",
     "start_time": "2017-10-20T10:27:34.901995"
    },
    "collapsed": false,
    "scrolled": true
   },
   "outputs": [
    {
     "data": {
      "text/plain": [
       "[u'  which in my bosom s shop is hanging still ',\n",
       " u'',\n",
       " u'  thine eyes  that taught the dumb on high to sing ',\n",
       " u'    this is a dreadful sentence ']"
      ]
     },
     "execution_count": 10,
     "metadata": {},
     "output_type": "execute_result"
    }
   ],
   "source": [
    "rdd3 = rdd2.map(lambda s: s.lower())\n",
    "rdd3.take(4)"
   ]
  },
  {
   "cell_type": "markdown",
   "metadata": {},
   "source": [
    "`map()` vs `flatMap()`\n",
    "- `map` produces a single row per row, even if the row may contain a collection\n",
    "- `flatMap` if the function on the row produces a collection multiple rows will be ejected"
   ]
  },
  {
   "cell_type": "code",
   "execution_count": 11,
   "metadata": {
    "ExecuteTime": {
     "end_time": "2017-10-20T10:27:39.567000",
     "start_time": "2017-10-20T10:27:39.444731"
    },
    "collapsed": false
   },
   "outputs": [
    {
     "data": {
      "text/plain": [
       "[u'', u'', u'which', u'in']"
      ]
     },
     "execution_count": 11,
     "metadata": {},
     "output_type": "execute_result"
    }
   ],
   "source": [
    "# hint: s.split(' ')\n",
    "rdd4 = rdd3.flatMap(lambda s: s.split(' '))\n",
    "rdd4.take(4)"
   ]
  },
  {
   "cell_type": "markdown",
   "metadata": {},
   "source": [
    "Now, that we have the words extracted we still need to add a value for the reduce process $x \\rightarrow (x,1)$"
   ]
  },
  {
   "cell_type": "code",
   "execution_count": 12,
   "metadata": {
    "ExecuteTime": {
     "end_time": "2017-10-20T10:27:42.130088",
     "start_time": "2017-10-20T10:27:42.036270"
    },
    "collapsed": false
   },
   "outputs": [
    {
     "data": {
      "text/plain": [
       "[(u'', 1), (u'', 1), (u'which', 1), (u'in', 1)]"
      ]
     },
     "execution_count": 12,
     "metadata": {},
     "output_type": "execute_result"
    }
   ],
   "source": [
    "rdd5 = rdd4.map(lambda t: (t, 1))\n",
    "rdd5.take(4)"
   ]
  },
  {
   "cell_type": "markdown",
   "metadata": {},
   "source": [
    "#  Counting\n",
    "Now, our data set should be in the proper format, and we can count the words"
   ]
  },
  {
   "cell_type": "code",
   "execution_count": 13,
   "metadata": {
    "ExecuteTime": {
     "end_time": "2017-10-20T10:27:44.855125",
     "start_time": "2017-10-20T10:27:44.311414"
    },
    "collapsed": false
   },
   "outputs": [
    {
     "data": {
      "text/plain": [
       "[(u'', 995), (u'shop', 1), (u'all', 3), (u'words', 1)]"
      ]
     },
     "execution_count": 13,
     "metadata": {},
     "output_type": "execute_result"
    }
   ],
   "source": [
    "# hint: +\n",
    "wordcount = rdd5.reduceByKey(lambda a,b: a+b)\n",
    "wordcount.take(4)"
   ]
  },
  {
   "cell_type": "markdown",
   "metadata": {},
   "source": [
    "Let's also sort them in descending order ... may have to swap values within the row"
   ]
  },
  {
   "cell_type": "code",
   "execution_count": 14,
   "metadata": {
    "ExecuteTime": {
     "end_time": "2017-10-20T10:27:47.392152",
     "start_time": "2017-10-20T10:27:46.972624"
    },
    "collapsed": false
   },
   "outputs": [
    {
     "data": {
      "text/plain": [
       "[(995, u''),\n",
       " (33, u'and'),\n",
       " (31, u'the'),\n",
       " (24, u'a'),\n",
       " (21, u'i'),\n",
       " (19, u'of'),\n",
       " (17, u'to'),\n",
       " (15, u'in'),\n",
       " (14, u'my'),\n",
       " (14, u'you')]"
      ]
     },
     "execution_count": 14,
     "metadata": {},
     "output_type": "execute_result"
    }
   ],
   "source": [
    "wordcount.map(lambda t: (t[1], t[0])).sortByKey(False).take(10)"
   ]
  },
  {
   "cell_type": "code",
   "execution_count": null,
   "metadata": {
    "collapsed": true
   },
   "outputs": [],
   "source": []
  },
  {
   "cell_type": "code",
   "execution_count": null,
   "metadata": {
    "collapsed": true
   },
   "outputs": [],
   "source": []
  }
 ],
 "metadata": {
  "hide_input": false,
  "kernelspec": {
   "display_name": "Python 2",
   "language": "python",
   "name": "python2"
  },
  "language_info": {
   "codemirror_mode": {
    "name": "ipython",
    "version": 2
   },
   "file_extension": ".py",
   "mimetype": "text/x-python",
   "name": "python",
   "nbconvert_exporter": "python",
   "pygments_lexer": "ipython2",
   "version": "2.7.5"
  },
  "toc": {
   "nav_menu": {
    "height": "66px",
    "width": "252px"
   },
   "navigate_menu": true,
   "number_sections": true,
   "sideBar": true,
   "threshold": 4,
   "toc_cell": false,
   "toc_section_display": "block",
   "toc_window_display": false
  }
 },
 "nbformat": 4,
 "nbformat_minor": 0
}
