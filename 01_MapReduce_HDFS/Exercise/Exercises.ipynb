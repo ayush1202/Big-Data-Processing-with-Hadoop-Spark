{
 "cells": [
  {
   "cell_type": "markdown",
   "metadata": {
    "collapsed": true
   },
   "source": [
    "# Exercise: UNIX, HDFS and Map-Reduce\n",
    "\n",
    "The following are ideas to test our newly gained knowledge:\n",
    "\n",
    "## Warm-up\n",
    "1. Create a folder structure under your user directory on the HDFS, and load some data files (e.g. Yelp) from the local file-system. Split data- files into smaller chunks, and `gzip` them.\n",
    "2. Extract CSV tables from Yelp or Twitter JSON files using `jq` or `python`.\n",
    "3. Perform aggregations and frequency counts using UNIX command line tools and pipes.\n",
    "\n",
    "\n",
    "## Walk\n",
    "1. Write a Map-Reduce mapper to filter and convert rows from a single datafile, and produce a (small) CSV table. Run Map-Reduce with data on the HDFS, move the resulting CSV table onto the local file system.\n",
    "2. Write a mapper and reducer to count words in Yelp reviews. Produce a list with the 200 most frequent words.\n",
    "\n",
    "## Run\n",
    "1. Join tables using Map-Reduce (use Yelp ... and incorporate JSON extraction)\n",
    "2. Write a sentiment analysis script in Python, and use Map-Reduce to apply to the Yelp reviews. **Run faster:** Produce a table with 'Sentiment' and 'Rating' from Yelp reviews.\n"
   ]
  },
  {
   "cell_type": "code",
   "execution_count": 1,
   "metadata": {
    "ExecuteTime": {
     "end_time": "2017-01-14T09:06:09.436299",
     "start_time": "2017-01-14T09:06:09.418452"
    },
    "collapsed": false
   },
   "outputs": [
    {
     "name": "stdout",
     "output_type": "stream",
     "text": [
      "total 8\n",
      "-rw-rw-r-- 1 pmolnar pmolnar 1058 Jan 14 09:01 README.md\n",
      "-rw-r--r-- 1 pmolnar pmolnar 2196 Jan 14 09:06 Untitled.ipynb\n"
     ]
    }
   ],
   "source": [
    "%%sh\n",
    "ls -l "
   ]
  },
  {
   "cell_type": "markdown",
   "metadata": {},
   "source": [
    "## JSON Decoding"
   ]
  },
  {
   "cell_type": "code",
   "execution_count": 2,
   "metadata": {
    "ExecuteTime": {
     "end_time": "2017-01-14T09:29:12.450201",
     "start_time": "2017-01-14T09:29:12.446008"
    },
    "collapsed": true
   },
   "outputs": [],
   "source": [
    "import json\n",
    "import os, sys"
   ]
  },
  {
   "cell_type": "code",
   "execution_count": null,
   "metadata": {
    "collapsed": true
   },
   "outputs": [],
   "source": [
    "uf = '/home/data/yelp/yelp_dataset_challenge_academic_dataset/yelp_academic_dataset_user.json'"
   ]
  },
  {
   "cell_type": "code",
   "execution_count": 9,
   "metadata": {
    "ExecuteTime": {
     "end_time": "2017-01-14T09:38:04.833886",
     "start_time": "2017-01-14T09:38:04.489395"
    },
    "collapsed": false
   },
   "outputs": [
    {
     "name": "stdout",
     "output_type": "stream",
     "text": [
      "18kPq7GPye-YQ3LyKyAZPw Russel 200\n",
      "rpOyqD_893cqmDAtJLbdog Jeremy 1939\n",
      "4U9kSBLuBDU391x6bxU-YA Michael 422\n",
      "fHtTaujcyKvXglE33Z5yIw Ken 4\n"
     ]
    }
   ],
   "source": [
    "datadir = '/home/data/yelp/yelp_dataset_challenge_academic_dataset/'\n",
    "with open(datadir+'yelp_academic_dataset_user.json') as f:\n",
    "    c = 0\n",
    "    for lin in sys.stdin.readlines:   ##f.readlines():   \n",
    "        r = json.loads(lin)\n",
    "        print r['user_id'], r['name'], len(r['friends'])\n",
    "        c += 1\n",
    "        if c>3:\n",
    "            break\n",
    "        "
   ]
  },
  {
   "cell_type": "code",
   "execution_count": 17,
   "metadata": {
    "ExecuteTime": {
     "end_time": "2017-01-14T09:55:54.024061",
     "start_time": "2017-01-14T09:55:52.043656"
    },
    "collapsed": false
   },
   "outputs": [
    {
     "name": "stdout",
     "output_type": "stream",
     "text": [
      "5UmKMjUEUNdYWqANhGckJw"
     ]
    },
    {
     "ename": "KeyError",
     "evalue": "'userid_id'",
     "output_type": "error",
     "traceback": [
      "\u001b[0;31m---------------------------------------------------------------------------\u001b[0m",
      "\u001b[0;31mKeyError\u001b[0m                                  Traceback (most recent call last)",
      "\u001b[0;32m<ipython-input-17-28d1ab62e30a>\u001b[0m in \u001b[0;36m<module>\u001b[0;34m()\u001b[0m\n\u001b[1;32m     15\u001b[0m     \u001b[0;32mfor\u001b[0m \u001b[0mlin\u001b[0m \u001b[0;32min\u001b[0m \u001b[0mf\u001b[0m\u001b[0;34m.\u001b[0m\u001b[0mreadlines\u001b[0m\u001b[0;34m(\u001b[0m\u001b[0;34m)\u001b[0m\u001b[0;34m:\u001b[0m\u001b[0;34m\u001b[0m\u001b[0m\n\u001b[1;32m     16\u001b[0m         \u001b[0mr\u001b[0m \u001b[0;34m=\u001b[0m \u001b[0mjson\u001b[0m\u001b[0;34m.\u001b[0m\u001b[0mloads\u001b[0m\u001b[0;34m(\u001b[0m\u001b[0mlin\u001b[0m\u001b[0;34m)\u001b[0m\u001b[0;34m\u001b[0m\u001b[0m\n\u001b[0;32m---> 17\u001b[0;31m         \u001b[0;32mprint\u001b[0m \u001b[0mr\u001b[0m\u001b[0;34m[\u001b[0m\u001b[0;34m'business_id'\u001b[0m\u001b[0;34m]\u001b[0m\u001b[0;34m,\u001b[0m \u001b[0mr\u001b[0m\u001b[0;34m[\u001b[0m\u001b[0;34m'userid_id'\u001b[0m\u001b[0;34m]\u001b[0m\u001b[0;34m,\u001b[0m \u001b[0mr\u001b[0m\u001b[0;34m[\u001b[0m\u001b[0;34m'stars'\u001b[0m\u001b[0;34m]\u001b[0m\u001b[0;34m,\u001b[0m \u001b[0mr\u001b[0m\u001b[0;34m[\u001b[0m\u001b[0;34m'text'\u001b[0m\u001b[0;34m]\u001b[0m\u001b[0;34m[\u001b[0m\u001b[0;34m:\u001b[0m\u001b[0;36m20\u001b[0m\u001b[0;34m]\u001b[0m\u001b[0;34m\u001b[0m\u001b[0m\n\u001b[0m\u001b[1;32m     18\u001b[0m         \u001b[0mc\u001b[0m \u001b[0;34m+=\u001b[0m \u001b[0;36m1\u001b[0m\u001b[0;34m\u001b[0m\u001b[0m\n\u001b[1;32m     19\u001b[0m         \u001b[0;32mif\u001b[0m \u001b[0mc\u001b[0m\u001b[0;34m>\u001b[0m\u001b[0;36m3\u001b[0m\u001b[0;34m:\u001b[0m\u001b[0;34m\u001b[0m\u001b[0m\n",
      "\u001b[0;31mKeyError\u001b[0m: 'userid_id'"
     ]
    }
   ],
   "source": [
    "\"\"\"\n",
    "{\n",
    "    'type': 'review',\n",
    "    'business_id': (encrypted business id),\n",
    "    'user_id': (encrypted user id),\n",
    "    'stars': (star rating, rounded to half-stars),\n",
    "    'text': (review text),\n",
    "    'date': (date, formatted like '2012-03-14'),\n",
    "    'votes': {(vote type): (count)},\n",
    "}\n",
    "\"\"\"\n",
    "datadir = '/home/data/yelp/yelp_dataset_challenge_academic_dataset/'\n",
    "with open(datadir+'yelp_academic_dataset_review.json') as f:\n",
    "    c = 0\n",
    "    for lin in f.readlines():   \n",
    "        r = json.loads(lin)\n",
    "        print r['business_id'], r['user_id'], r['stars'], r['text'][:20]\n",
    "        c += 1\n",
    "        if c>3:\n",
    "            break"
   ]
  },
  {
   "cell_type": "markdown",
   "metadata": {
    "ExecuteTime": {
     "end_time": "2017-01-14T09:41:43.607141",
     "start_time": "2017-01-14T09:41:43.602820"
    }
   },
   "source": [
    "Let's write a mapper that pulls out users and their friends.\n",
    "First we'll do it "
   ]
  },
  {
   "cell_type": "code",
   "execution_count": null,
   "metadata": {
    "collapsed": true
   },
   "outputs": [],
   "source": [
    "\n",
    "\n"
   ]
  }
 ],
 "metadata": {
  "hide_input": false,
  "kernelspec": {
   "display_name": "Python 2",
   "language": "python",
   "name": "python2"
  },
  "language_info": {
   "codemirror_mode": {
    "name": "ipython",
    "version": 2
   },
   "file_extension": ".py",
   "mimetype": "text/x-python",
   "name": "python",
   "nbconvert_exporter": "python",
   "pygments_lexer": "ipython2",
   "version": "2.7.5"
  },
  "toc": {
   "nav_menu": {
    "height": "12px",
    "width": "252px"
   },
   "navigate_menu": true,
   "number_sections": true,
   "sideBar": true,
   "threshold": 4,
   "toc_cell": false,
   "toc_section_display": "block",
   "toc_window_display": false
  }
 },
 "nbformat": 4,
 "nbformat_minor": 0
}
